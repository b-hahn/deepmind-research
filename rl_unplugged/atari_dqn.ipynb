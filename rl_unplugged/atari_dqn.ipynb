{
  "cells": [
    {
      "cell_type": "markdown",
      "metadata": {
        "id": "view-in-github",
        "colab_type": "text"
      },
      "source": [
        "<a href=\"https://colab.research.google.com/github/b-hahn/deepmind-research/blob/master/rl_unplugged/atari_dqn.ipynb\" target=\"_parent\"><img src=\"https://colab.research.google.com/assets/colab-badge.svg\" alt=\"Open In Colab\"/></a>"
      ]
    },
    {
      "cell_type": "markdown",
      "metadata": {
        "id": "ULdrhOaVbsdO"
      },
      "source": [
        "# RL Unplugged: Offline DQN - Atari\n",
        "## Guide to  training an Acme DQN agent on Atari data.\n",
        "# <a href=\"https://colab.research.google.com/github/deepmind/deepmind_research/blob/master/rl_unplugged/atari_dqn.ipynb\" target=\"_parent\"><img src=\"https://colab.research.google.com/assets/colab-badge.svg\" alt=\"Open In Colab\"/></a>\n",
        "\n",
        "\n"
      ]
    },
    {
      "cell_type": "markdown",
      "metadata": {
        "id": "xaJxoatMhJ71"
      },
      "source": [
        "## Installation"
      ]
    },
    {
      "cell_type": "code",
      "source": [
        "from google.colab import drive\n",
        "drive.mount('/content/drive')"
      ],
      "metadata": {
        "colab": {
          "base_uri": "https://localhost:8080/"
        },
        "id": "lNhcR8OIMgyt",
        "outputId": "bcf35011-7535-4de0-decd-a2399da3a7f7"
      },
      "execution_count": 15,
      "outputs": [
        {
          "output_type": "stream",
          "name": "stdout",
          "text": [
            "Mounted at /content/drive\n"
          ]
        }
      ]
    },
    {
      "cell_type": "code",
      "execution_count": 1,
      "metadata": {
        "cellView": "both",
        "colab": {
          "base_uri": "https://localhost:8080/"
        },
        "id": "KH3O0zcXUeun",
        "outputId": "790f2b75-b106-4502-fda1-1a2ad491f0c2"
      },
      "outputs": [
        {
          "output_type": "stream",
          "name": "stdout",
          "text": [
            "Collecting dm-acme\n",
            "  Downloading dm-acme-0.3.0.tar.gz (309 kB)\n",
            "\u001b[K     |████████████████████████████████| 309 kB 5.4 MB/s \n",
            "\u001b[?25hRequirement already satisfied: absl-py in /usr/local/lib/python3.7/dist-packages (from dm-acme) (0.12.0)\n",
            "Collecting dm-env\n",
            "  Downloading dm_env-1.5-py3-none-any.whl (26 kB)\n",
            "Collecting dm-launchpad==0.4.1\n",
            "  Downloading dm_launchpad-0.4.1-cp37-cp37m-manylinux2010_x86_64.whl (3.8 MB)\n",
            "\u001b[K     |████████████████████████████████| 3.8 MB 56.4 MB/s \n",
            "\u001b[?25hRequirement already satisfied: dm-tree in /usr/local/lib/python3.7/dist-packages (from dm-acme) (0.1.6)\n",
            "Requirement already satisfied: numpy in /usr/local/lib/python3.7/dist-packages (from dm-acme) (1.19.5)\n",
            "Requirement already satisfied: pillow in /usr/local/lib/python3.7/dist-packages (from dm-acme) (7.1.2)\n",
            "Requirement already satisfied: typing-extensions in /usr/local/lib/python3.7/dist-packages (from dm-acme) (3.10.0.2)\n",
            "Requirement already satisfied: protobuf in /usr/local/lib/python3.7/dist-packages (from dm-launchpad==0.4.1->dm-acme) (3.17.3)\n",
            "Requirement already satisfied: termcolor in /usr/local/lib/python3.7/dist-packages (from dm-launchpad==0.4.1->dm-acme) (1.1.0)\n",
            "Requirement already satisfied: grpcio in /usr/local/lib/python3.7/dist-packages (from dm-launchpad==0.4.1->dm-acme) (1.43.0)\n",
            "Collecting mock\n",
            "  Downloading mock-4.0.3-py3-none-any.whl (28 kB)\n",
            "Requirement already satisfied: psutil in /usr/local/lib/python3.7/dist-packages (from dm-launchpad==0.4.1->dm-acme) (5.4.8)\n",
            "Requirement already satisfied: portpicker in /usr/local/lib/python3.7/dist-packages (from dm-launchpad==0.4.1->dm-acme) (1.3.9)\n",
            "Requirement already satisfied: cloudpickle in /usr/local/lib/python3.7/dist-packages (from dm-launchpad==0.4.1->dm-acme) (1.3.0)\n",
            "Requirement already satisfied: six in /usr/local/lib/python3.7/dist-packages (from absl-py->dm-acme) (1.15.0)\n",
            "Building wheels for collected packages: dm-acme\n",
            "  Building wheel for dm-acme (setup.py) ... \u001b[?25l\u001b[?25hdone\n",
            "  Created wheel for dm-acme: filename=dm_acme-0.3.0-py3-none-any.whl size=561406 sha256=e2e827c1a0ebd0e49e91e6a72e8c007f8d90361d7dbc271b92a9f3de17d81cf7\n",
            "  Stored in directory: /root/.cache/pip/wheels/a8/ae/a1/63409d662e89b8c25d080c1e897253b51d0630e2fba790cf6b\n",
            "Successfully built dm-acme\n",
            "Installing collected packages: mock, dm-launchpad, dm-env, dm-acme\n",
            "Successfully installed dm-acme-0.3.0 dm-env-1.5 dm-launchpad-0.4.1 mock-4.0.3\n",
            "Requirement already satisfied: dm-acme[reverb] in /usr/local/lib/python3.7/dist-packages (0.3.0)\n",
            "\u001b[33mWARNING: dm-acme 0.3.0 does not provide the extra 'reverb'\u001b[0m\n",
            "Requirement already satisfied: dm-env in /usr/local/lib/python3.7/dist-packages (from dm-acme[reverb]) (1.5)\n",
            "Requirement already satisfied: typing-extensions in /usr/local/lib/python3.7/dist-packages (from dm-acme[reverb]) (3.10.0.2)\n",
            "Requirement already satisfied: dm-tree in /usr/local/lib/python3.7/dist-packages (from dm-acme[reverb]) (0.1.6)\n",
            "Requirement already satisfied: numpy in /usr/local/lib/python3.7/dist-packages (from dm-acme[reverb]) (1.19.5)\n",
            "Requirement already satisfied: absl-py in /usr/local/lib/python3.7/dist-packages (from dm-acme[reverb]) (0.12.0)\n",
            "Requirement already satisfied: dm-launchpad==0.4.1 in /usr/local/lib/python3.7/dist-packages (from dm-acme[reverb]) (0.4.1)\n",
            "Requirement already satisfied: pillow in /usr/local/lib/python3.7/dist-packages (from dm-acme[reverb]) (7.1.2)\n",
            "Requirement already satisfied: termcolor in /usr/local/lib/python3.7/dist-packages (from dm-launchpad==0.4.1->dm-acme[reverb]) (1.1.0)\n",
            "Requirement already satisfied: psutil in /usr/local/lib/python3.7/dist-packages (from dm-launchpad==0.4.1->dm-acme[reverb]) (5.4.8)\n",
            "Requirement already satisfied: protobuf in /usr/local/lib/python3.7/dist-packages (from dm-launchpad==0.4.1->dm-acme[reverb]) (3.17.3)\n",
            "Requirement already satisfied: portpicker in /usr/local/lib/python3.7/dist-packages (from dm-launchpad==0.4.1->dm-acme[reverb]) (1.3.9)\n",
            "Requirement already satisfied: cloudpickle in /usr/local/lib/python3.7/dist-packages (from dm-launchpad==0.4.1->dm-acme[reverb]) (1.3.0)\n",
            "Requirement already satisfied: mock in /usr/local/lib/python3.7/dist-packages (from dm-launchpad==0.4.1->dm-acme[reverb]) (4.0.3)\n",
            "Requirement already satisfied: grpcio in /usr/local/lib/python3.7/dist-packages (from dm-launchpad==0.4.1->dm-acme[reverb]) (1.43.0)\n",
            "Requirement already satisfied: six in /usr/local/lib/python3.7/dist-packages (from absl-py->dm-acme[reverb]) (1.15.0)\n",
            "Collecting dm-reverb\n",
            "  Downloading dm_reverb-0.6.1-cp37-cp37m-manylinux2010_x86_64.whl (6.4 MB)\n",
            "\u001b[K     |████████████████████████████████| 6.4 MB 4.7 MB/s \n",
            "\u001b[?25hRequirement already satisfied: portpicker in /usr/local/lib/python3.7/dist-packages (from dm-reverb) (1.3.9)\n",
            "Requirement already satisfied: dm-tree in /usr/local/lib/python3.7/dist-packages (from dm-reverb) (0.1.6)\n",
            "Requirement already satisfied: six>=1.12.0 in /usr/local/lib/python3.7/dist-packages (from dm-tree->dm-reverb) (1.15.0)\n",
            "Installing collected packages: dm-reverb\n",
            "Successfully installed dm-reverb-0.6.1\n",
            "Requirement already satisfied: dm-acme[tf] in /usr/local/lib/python3.7/dist-packages (0.3.0)\n",
            "Requirement already satisfied: numpy in /usr/local/lib/python3.7/dist-packages (from dm-acme[tf]) (1.19.5)\n",
            "Requirement already satisfied: absl-py in /usr/local/lib/python3.7/dist-packages (from dm-acme[tf]) (0.12.0)\n",
            "Requirement already satisfied: typing-extensions in /usr/local/lib/python3.7/dist-packages (from dm-acme[tf]) (3.10.0.2)\n",
            "Requirement already satisfied: pillow in /usr/local/lib/python3.7/dist-packages (from dm-acme[tf]) (7.1.2)\n",
            "Requirement already satisfied: dm-launchpad==0.4.1 in /usr/local/lib/python3.7/dist-packages (from dm-acme[tf]) (0.4.1)\n",
            "Requirement already satisfied: dm-tree in /usr/local/lib/python3.7/dist-packages (from dm-acme[tf]) (0.1.6)\n",
            "Requirement already satisfied: dm-env in /usr/local/lib/python3.7/dist-packages (from dm-acme[tf]) (1.5)\n",
            "Collecting dm-sonnet\n",
            "  Downloading dm_sonnet-2.0.0-py3-none-any.whl (254 kB)\n",
            "\u001b[K     |████████████████████████████████| 254 kB 5.3 MB/s \n",
            "\u001b[?25hRequirement already satisfied: tensorflow==2.7.0 in /usr/local/lib/python3.7/dist-packages (from dm-acme[tf]) (2.7.0)\n",
            "Requirement already satisfied: tensorflow-estimator==2.7.0 in /usr/local/lib/python3.7/dist-packages (from dm-acme[tf]) (2.7.0)\n",
            "Collecting trfl\n",
            "  Downloading trfl-1.2.0-py3-none-any.whl (104 kB)\n",
            "\u001b[K     |████████████████████████████████| 104 kB 69.2 MB/s \n",
            "\u001b[?25hRequirement already satisfied: tensorflow-probability==0.15.0 in /usr/local/lib/python3.7/dist-packages (from dm-acme[tf]) (0.15.0)\n",
            "Collecting tensorflow-datasets==4.4.0\n",
            "  Downloading tensorflow_datasets-4.4.0-py3-none-any.whl (4.0 MB)\n",
            "\u001b[K     |████████████████████████████████| 4.0 MB 63.3 MB/s \n",
            "\u001b[?25hRequirement already satisfied: dm-reverb==0.6.1 in /usr/local/lib/python3.7/dist-packages (from dm-acme[tf]) (0.6.1)\n",
            "Requirement already satisfied: keras==2.7.0 in /usr/local/lib/python3.7/dist-packages (from dm-acme[tf]) (2.7.0)\n",
            "Requirement already satisfied: psutil in /usr/local/lib/python3.7/dist-packages (from dm-launchpad==0.4.1->dm-acme[tf]) (5.4.8)\n",
            "Requirement already satisfied: portpicker in /usr/local/lib/python3.7/dist-packages (from dm-launchpad==0.4.1->dm-acme[tf]) (1.3.9)\n",
            "Requirement already satisfied: cloudpickle in /usr/local/lib/python3.7/dist-packages (from dm-launchpad==0.4.1->dm-acme[tf]) (1.3.0)\n",
            "Requirement already satisfied: grpcio in /usr/local/lib/python3.7/dist-packages (from dm-launchpad==0.4.1->dm-acme[tf]) (1.43.0)\n",
            "Requirement already satisfied: termcolor in /usr/local/lib/python3.7/dist-packages (from dm-launchpad==0.4.1->dm-acme[tf]) (1.1.0)\n",
            "Requirement already satisfied: protobuf in /usr/local/lib/python3.7/dist-packages (from dm-launchpad==0.4.1->dm-acme[tf]) (3.17.3)\n",
            "Requirement already satisfied: mock in /usr/local/lib/python3.7/dist-packages (from dm-launchpad==0.4.1->dm-acme[tf]) (4.0.3)\n",
            "Requirement already satisfied: wheel<1.0,>=0.32.0 in /usr/local/lib/python3.7/dist-packages (from tensorflow==2.7.0->dm-acme[tf]) (0.37.1)\n",
            "Requirement already satisfied: tensorflow-io-gcs-filesystem>=0.21.0 in /usr/local/lib/python3.7/dist-packages (from tensorflow==2.7.0->dm-acme[tf]) (0.23.1)\n",
            "Requirement already satisfied: libclang>=9.0.1 in /usr/local/lib/python3.7/dist-packages (from tensorflow==2.7.0->dm-acme[tf]) (12.0.0)\n",
            "Requirement already satisfied: gast<0.5.0,>=0.2.1 in /usr/local/lib/python3.7/dist-packages (from tensorflow==2.7.0->dm-acme[tf]) (0.4.0)\n",
            "Requirement already satisfied: keras-preprocessing>=1.1.1 in /usr/local/lib/python3.7/dist-packages (from tensorflow==2.7.0->dm-acme[tf]) (1.1.2)\n",
            "Requirement already satisfied: google-pasta>=0.1.1 in /usr/local/lib/python3.7/dist-packages (from tensorflow==2.7.0->dm-acme[tf]) (0.2.0)\n",
            "Requirement already satisfied: opt-einsum>=2.3.2 in /usr/local/lib/python3.7/dist-packages (from tensorflow==2.7.0->dm-acme[tf]) (3.3.0)\n",
            "Requirement already satisfied: wrapt>=1.11.0 in /usr/local/lib/python3.7/dist-packages (from tensorflow==2.7.0->dm-acme[tf]) (1.13.3)\n",
            "Requirement already satisfied: h5py>=2.9.0 in /usr/local/lib/python3.7/dist-packages (from tensorflow==2.7.0->dm-acme[tf]) (3.1.0)\n",
            "Requirement already satisfied: six>=1.12.0 in /usr/local/lib/python3.7/dist-packages (from tensorflow==2.7.0->dm-acme[tf]) (1.15.0)\n",
            "Requirement already satisfied: tensorboard~=2.6 in /usr/local/lib/python3.7/dist-packages (from tensorflow==2.7.0->dm-acme[tf]) (2.7.0)\n",
            "Requirement already satisfied: flatbuffers<3.0,>=1.12 in /usr/local/lib/python3.7/dist-packages (from tensorflow==2.7.0->dm-acme[tf]) (2.0)\n",
            "Requirement already satisfied: astunparse>=1.6.0 in /usr/local/lib/python3.7/dist-packages (from tensorflow==2.7.0->dm-acme[tf]) (1.6.3)\n",
            "Requirement already satisfied: attrs>=18.1.0 in /usr/local/lib/python3.7/dist-packages (from tensorflow-datasets==4.4.0->dm-acme[tf]) (21.4.0)\n",
            "Requirement already satisfied: promise in /usr/local/lib/python3.7/dist-packages (from tensorflow-datasets==4.4.0->dm-acme[tf]) (2.3)\n",
            "Requirement already satisfied: tensorflow-metadata in /usr/local/lib/python3.7/dist-packages (from tensorflow-datasets==4.4.0->dm-acme[tf]) (1.5.0)\n",
            "Requirement already satisfied: importlib-resources in /usr/local/lib/python3.7/dist-packages (from tensorflow-datasets==4.4.0->dm-acme[tf]) (5.4.0)\n",
            "Requirement already satisfied: future in /usr/local/lib/python3.7/dist-packages (from tensorflow-datasets==4.4.0->dm-acme[tf]) (0.16.0)\n",
            "Requirement already satisfied: requests>=2.19.0 in /usr/local/lib/python3.7/dist-packages (from tensorflow-datasets==4.4.0->dm-acme[tf]) (2.23.0)\n",
            "Requirement already satisfied: dill in /usr/local/lib/python3.7/dist-packages (from tensorflow-datasets==4.4.0->dm-acme[tf]) (0.3.4)\n",
            "Requirement already satisfied: tqdm in /usr/local/lib/python3.7/dist-packages (from tensorflow-datasets==4.4.0->dm-acme[tf]) (4.62.3)\n",
            "Requirement already satisfied: decorator in /usr/local/lib/python3.7/dist-packages (from tensorflow-probability==0.15.0->dm-acme[tf]) (4.4.2)\n",
            "Requirement already satisfied: cached-property in /usr/local/lib/python3.7/dist-packages (from h5py>=2.9.0->tensorflow==2.7.0->dm-acme[tf]) (1.5.2)\n",
            "Requirement already satisfied: chardet<4,>=3.0.2 in /usr/local/lib/python3.7/dist-packages (from requests>=2.19.0->tensorflow-datasets==4.4.0->dm-acme[tf]) (3.0.4)\n",
            "Requirement already satisfied: certifi>=2017.4.17 in /usr/local/lib/python3.7/dist-packages (from requests>=2.19.0->tensorflow-datasets==4.4.0->dm-acme[tf]) (2021.10.8)\n",
            "Requirement already satisfied: urllib3!=1.25.0,!=1.25.1,<1.26,>=1.21.1 in /usr/local/lib/python3.7/dist-packages (from requests>=2.19.0->tensorflow-datasets==4.4.0->dm-acme[tf]) (1.24.3)\n",
            "Requirement already satisfied: idna<3,>=2.5 in /usr/local/lib/python3.7/dist-packages (from requests>=2.19.0->tensorflow-datasets==4.4.0->dm-acme[tf]) (2.10)\n",
            "Requirement already satisfied: tensorboard-data-server<0.7.0,>=0.6.0 in /usr/local/lib/python3.7/dist-packages (from tensorboard~=2.6->tensorflow==2.7.0->dm-acme[tf]) (0.6.1)\n",
            "Requirement already satisfied: markdown>=2.6.8 in /usr/local/lib/python3.7/dist-packages (from tensorboard~=2.6->tensorflow==2.7.0->dm-acme[tf]) (3.3.6)\n",
            "Requirement already satisfied: tensorboard-plugin-wit>=1.6.0 in /usr/local/lib/python3.7/dist-packages (from tensorboard~=2.6->tensorflow==2.7.0->dm-acme[tf]) (1.8.1)\n",
            "Requirement already satisfied: werkzeug>=0.11.15 in /usr/local/lib/python3.7/dist-packages (from tensorboard~=2.6->tensorflow==2.7.0->dm-acme[tf]) (1.0.1)\n",
            "Requirement already satisfied: google-auth<3,>=1.6.3 in /usr/local/lib/python3.7/dist-packages (from tensorboard~=2.6->tensorflow==2.7.0->dm-acme[tf]) (1.35.0)\n",
            "Requirement already satisfied: setuptools>=41.0.0 in /usr/local/lib/python3.7/dist-packages (from tensorboard~=2.6->tensorflow==2.7.0->dm-acme[tf]) (57.4.0)\n",
            "Requirement already satisfied: google-auth-oauthlib<0.5,>=0.4.1 in /usr/local/lib/python3.7/dist-packages (from tensorboard~=2.6->tensorflow==2.7.0->dm-acme[tf]) (0.4.6)\n",
            "Requirement already satisfied: cachetools<5.0,>=2.0.0 in /usr/local/lib/python3.7/dist-packages (from google-auth<3,>=1.6.3->tensorboard~=2.6->tensorflow==2.7.0->dm-acme[tf]) (4.2.4)\n",
            "Requirement already satisfied: rsa<5,>=3.1.4 in /usr/local/lib/python3.7/dist-packages (from google-auth<3,>=1.6.3->tensorboard~=2.6->tensorflow==2.7.0->dm-acme[tf]) (4.8)\n",
            "Requirement already satisfied: pyasn1-modules>=0.2.1 in /usr/local/lib/python3.7/dist-packages (from google-auth<3,>=1.6.3->tensorboard~=2.6->tensorflow==2.7.0->dm-acme[tf]) (0.2.8)\n",
            "Requirement already satisfied: requests-oauthlib>=0.7.0 in /usr/local/lib/python3.7/dist-packages (from google-auth-oauthlib<0.5,>=0.4.1->tensorboard~=2.6->tensorflow==2.7.0->dm-acme[tf]) (1.3.0)\n",
            "Requirement already satisfied: importlib-metadata>=4.4 in /usr/local/lib/python3.7/dist-packages (from markdown>=2.6.8->tensorboard~=2.6->tensorflow==2.7.0->dm-acme[tf]) (4.10.0)\n",
            "Requirement already satisfied: zipp>=0.5 in /usr/local/lib/python3.7/dist-packages (from importlib-metadata>=4.4->markdown>=2.6.8->tensorboard~=2.6->tensorflow==2.7.0->dm-acme[tf]) (3.7.0)\n",
            "Requirement already satisfied: pyasn1<0.5.0,>=0.4.6 in /usr/local/lib/python3.7/dist-packages (from pyasn1-modules>=0.2.1->google-auth<3,>=1.6.3->tensorboard~=2.6->tensorflow==2.7.0->dm-acme[tf]) (0.4.8)\n",
            "Requirement already satisfied: oauthlib>=3.0.0 in /usr/local/lib/python3.7/dist-packages (from requests-oauthlib>=0.7.0->google-auth-oauthlib<0.5,>=0.4.1->tensorboard~=2.6->tensorflow==2.7.0->dm-acme[tf]) (3.1.1)\n",
            "Requirement already satisfied: tabulate>=0.7.5 in /usr/local/lib/python3.7/dist-packages (from dm-sonnet->dm-acme[tf]) (0.8.9)\n",
            "Requirement already satisfied: googleapis-common-protos<2,>=1.52.0 in /usr/local/lib/python3.7/dist-packages (from tensorflow-metadata->tensorflow-datasets==4.4.0->dm-acme[tf]) (1.54.0)\n",
            "Installing collected packages: trfl, tensorflow-datasets, dm-sonnet\n",
            "  Attempting uninstall: tensorflow-datasets\n",
            "    Found existing installation: tensorflow-datasets 4.0.1\n",
            "    Uninstalling tensorflow-datasets-4.0.1:\n",
            "      Successfully uninstalled tensorflow-datasets-4.0.1\n",
            "Successfully installed dm-sonnet-2.0.0 tensorflow-datasets-4.4.0 trfl-1.2.0\n",
            "Requirement already satisfied: dm-sonnet in /usr/local/lib/python3.7/dist-packages (2.0.0)\n",
            "Requirement already satisfied: numpy>=1.16.3 in /usr/local/lib/python3.7/dist-packages (from dm-sonnet) (1.19.5)\n",
            "Requirement already satisfied: six>=1.12.0 in /usr/local/lib/python3.7/dist-packages (from dm-sonnet) (1.15.0)\n",
            "Requirement already satisfied: absl-py>=0.7.1 in /usr/local/lib/python3.7/dist-packages (from dm-sonnet) (0.12.0)\n",
            "Requirement already satisfied: tabulate>=0.7.5 in /usr/local/lib/python3.7/dist-packages (from dm-sonnet) (0.8.9)\n",
            "Requirement already satisfied: dm-tree>=0.1.1 in /usr/local/lib/python3.7/dist-packages (from dm-sonnet) (0.1.6)\n",
            "Requirement already satisfied: wrapt>=1.11.1 in /usr/local/lib/python3.7/dist-packages (from dm-sonnet) (1.13.3)\n",
            "Collecting dopamine-rl==3.1.2\n",
            "  Downloading dopamine_rl-3.1.2-py3-none-any.whl (111 kB)\n",
            "\u001b[K     |████████████████████████████████| 111 kB 5.4 MB/s \n",
            "\u001b[?25hRequirement already satisfied: tensorflow>=2.2.0 in /usr/local/lib/python3.7/dist-packages (from dopamine-rl==3.1.2) (2.7.0)\n",
            "Requirement already satisfied: gym[atari]>=0.13.1 in /usr/local/lib/python3.7/dist-packages (from dopamine-rl==3.1.2) (0.17.3)\n",
            "Requirement already satisfied: numpy>=1.16.4 in /usr/local/lib/python3.7/dist-packages (from dopamine-rl==3.1.2) (1.19.5)\n",
            "Requirement already satisfied: gin-config>=0.3.0 in /usr/local/lib/python3.7/dist-packages (from dopamine-rl==3.1.2) (0.5.0)\n",
            "Requirement already satisfied: absl-py>=0.9.0 in /usr/local/lib/python3.7/dist-packages (from dopamine-rl==3.1.2) (0.12.0)\n",
            "Collecting pygame>=1.9.2\n",
            "  Downloading pygame-2.1.2-cp37-cp37m-manylinux_2_17_x86_64.manylinux2014_x86_64.whl (21.8 MB)\n",
            "\u001b[K     |████████████████████████████████| 21.8 MB 3.6 MB/s \n",
            "\u001b[?25hRequirement already satisfied: pandas>=0.24.2 in /usr/local/lib/python3.7/dist-packages (from dopamine-rl==3.1.2) (1.1.5)\n",
            "Requirement already satisfied: opencv-python>=3.4.8.29 in /usr/local/lib/python3.7/dist-packages (from dopamine-rl==3.1.2) (4.1.2.30)\n",
            "Collecting tf-slim>=1.0\n",
            "  Downloading tf_slim-1.1.0-py2.py3-none-any.whl (352 kB)\n",
            "\u001b[K     |████████████████████████████████| 352 kB 58.6 MB/s \n",
            "\u001b[?25hCollecting flax>=0.2.0\n",
            "  Downloading flax-0.3.6-py3-none-any.whl (207 kB)\n",
            "\u001b[K     |████████████████████████████████| 207 kB 59.3 MB/s \n",
            "\u001b[?25hRequirement already satisfied: jax>=0.1.72 in /usr/local/lib/python3.7/dist-packages (from dopamine-rl==3.1.2) (0.2.25)\n",
            "Requirement already satisfied: jaxlib>=0.1.51 in /usr/local/lib/python3.7/dist-packages (from dopamine-rl==3.1.2) (0.1.71+cuda111)\n",
            "Requirement already satisfied: Pillow>=7.0.0 in /usr/local/lib/python3.7/dist-packages (from dopamine-rl==3.1.2) (7.1.2)\n",
            "Requirement already satisfied: six in /usr/local/lib/python3.7/dist-packages (from absl-py>=0.9.0->dopamine-rl==3.1.2) (1.15.0)\n",
            "Requirement already satisfied: matplotlib in /usr/local/lib/python3.7/dist-packages (from flax>=0.2.0->dopamine-rl==3.1.2) (3.2.2)\n",
            "Collecting optax\n",
            "  Downloading optax-0.1.0-py3-none-any.whl (126 kB)\n",
            "\u001b[K     |████████████████████████████████| 126 kB 56.1 MB/s \n",
            "\u001b[?25hRequirement already satisfied: msgpack in /usr/local/lib/python3.7/dist-packages (from flax>=0.2.0->dopamine-rl==3.1.2) (1.0.3)\n",
            "Requirement already satisfied: cloudpickle<1.7.0,>=1.2.0 in /usr/local/lib/python3.7/dist-packages (from gym[atari]>=0.13.1->dopamine-rl==3.1.2) (1.3.0)\n",
            "Requirement already satisfied: pyglet<=1.5.0,>=1.4.0 in /usr/local/lib/python3.7/dist-packages (from gym[atari]>=0.13.1->dopamine-rl==3.1.2) (1.5.0)\n",
            "Requirement already satisfied: scipy in /usr/local/lib/python3.7/dist-packages (from gym[atari]>=0.13.1->dopamine-rl==3.1.2) (1.4.1)\n",
            "Requirement already satisfied: atari-py~=0.2.0 in /usr/local/lib/python3.7/dist-packages (from gym[atari]>=0.13.1->dopamine-rl==3.1.2) (0.2.9)\n",
            "Requirement already satisfied: typing-extensions in /usr/local/lib/python3.7/dist-packages (from jax>=0.1.72->dopamine-rl==3.1.2) (3.10.0.2)\n",
            "Requirement already satisfied: opt-einsum in /usr/local/lib/python3.7/dist-packages (from jax>=0.1.72->dopamine-rl==3.1.2) (3.3.0)\n",
            "Requirement already satisfied: flatbuffers<3.0,>=1.12 in /usr/local/lib/python3.7/dist-packages (from jaxlib>=0.1.51->dopamine-rl==3.1.2) (2.0)\n",
            "Requirement already satisfied: pytz>=2017.2 in /usr/local/lib/python3.7/dist-packages (from pandas>=0.24.2->dopamine-rl==3.1.2) (2018.9)\n",
            "Requirement already satisfied: python-dateutil>=2.7.3 in /usr/local/lib/python3.7/dist-packages (from pandas>=0.24.2->dopamine-rl==3.1.2) (2.8.2)\n",
            "Requirement already satisfied: future in /usr/local/lib/python3.7/dist-packages (from pyglet<=1.5.0,>=1.4.0->gym[atari]>=0.13.1->dopamine-rl==3.1.2) (0.16.0)\n",
            "Requirement already satisfied: tensorflow-estimator<2.8,~=2.7.0rc0 in /usr/local/lib/python3.7/dist-packages (from tensorflow>=2.2.0->dopamine-rl==3.1.2) (2.7.0)\n",
            "Requirement already satisfied: grpcio<2.0,>=1.24.3 in /usr/local/lib/python3.7/dist-packages (from tensorflow>=2.2.0->dopamine-rl==3.1.2) (1.43.0)\n",
            "Requirement already satisfied: wrapt>=1.11.0 in /usr/local/lib/python3.7/dist-packages (from tensorflow>=2.2.0->dopamine-rl==3.1.2) (1.13.3)\n",
            "Requirement already satisfied: tensorboard~=2.6 in /usr/local/lib/python3.7/dist-packages (from tensorflow>=2.2.0->dopamine-rl==3.1.2) (2.7.0)\n",
            "Requirement already satisfied: google-pasta>=0.1.1 in /usr/local/lib/python3.7/dist-packages (from tensorflow>=2.2.0->dopamine-rl==3.1.2) (0.2.0)\n",
            "Requirement already satisfied: termcolor>=1.1.0 in /usr/local/lib/python3.7/dist-packages (from tensorflow>=2.2.0->dopamine-rl==3.1.2) (1.1.0)\n",
            "Requirement already satisfied: keras<2.8,>=2.7.0rc0 in /usr/local/lib/python3.7/dist-packages (from tensorflow>=2.2.0->dopamine-rl==3.1.2) (2.7.0)\n",
            "Requirement already satisfied: wheel<1.0,>=0.32.0 in /usr/local/lib/python3.7/dist-packages (from tensorflow>=2.2.0->dopamine-rl==3.1.2) (0.37.1)\n",
            "Requirement already satisfied: h5py>=2.9.0 in /usr/local/lib/python3.7/dist-packages (from tensorflow>=2.2.0->dopamine-rl==3.1.2) (3.1.0)\n",
            "Requirement already satisfied: astunparse>=1.6.0 in /usr/local/lib/python3.7/dist-packages (from tensorflow>=2.2.0->dopamine-rl==3.1.2) (1.6.3)\n",
            "Requirement already satisfied: tensorflow-io-gcs-filesystem>=0.21.0 in /usr/local/lib/python3.7/dist-packages (from tensorflow>=2.2.0->dopamine-rl==3.1.2) (0.23.1)\n",
            "Requirement already satisfied: protobuf>=3.9.2 in /usr/local/lib/python3.7/dist-packages (from tensorflow>=2.2.0->dopamine-rl==3.1.2) (3.17.3)\n",
            "Requirement already satisfied: keras-preprocessing>=1.1.1 in /usr/local/lib/python3.7/dist-packages (from tensorflow>=2.2.0->dopamine-rl==3.1.2) (1.1.2)\n",
            "Requirement already satisfied: libclang>=9.0.1 in /usr/local/lib/python3.7/dist-packages (from tensorflow>=2.2.0->dopamine-rl==3.1.2) (12.0.0)\n",
            "Requirement already satisfied: gast<0.5.0,>=0.2.1 in /usr/local/lib/python3.7/dist-packages (from tensorflow>=2.2.0->dopamine-rl==3.1.2) (0.4.0)\n",
            "Requirement already satisfied: cached-property in /usr/local/lib/python3.7/dist-packages (from h5py>=2.9.0->tensorflow>=2.2.0->dopamine-rl==3.1.2) (1.5.2)\n",
            "Requirement already satisfied: markdown>=2.6.8 in /usr/local/lib/python3.7/dist-packages (from tensorboard~=2.6->tensorflow>=2.2.0->dopamine-rl==3.1.2) (3.3.6)\n",
            "Requirement already satisfied: tensorboard-plugin-wit>=1.6.0 in /usr/local/lib/python3.7/dist-packages (from tensorboard~=2.6->tensorflow>=2.2.0->dopamine-rl==3.1.2) (1.8.1)\n",
            "Requirement already satisfied: tensorboard-data-server<0.7.0,>=0.6.0 in /usr/local/lib/python3.7/dist-packages (from tensorboard~=2.6->tensorflow>=2.2.0->dopamine-rl==3.1.2) (0.6.1)\n",
            "Requirement already satisfied: setuptools>=41.0.0 in /usr/local/lib/python3.7/dist-packages (from tensorboard~=2.6->tensorflow>=2.2.0->dopamine-rl==3.1.2) (57.4.0)\n",
            "Requirement already satisfied: requests<3,>=2.21.0 in /usr/local/lib/python3.7/dist-packages (from tensorboard~=2.6->tensorflow>=2.2.0->dopamine-rl==3.1.2) (2.23.0)\n",
            "Requirement already satisfied: google-auth<3,>=1.6.3 in /usr/local/lib/python3.7/dist-packages (from tensorboard~=2.6->tensorflow>=2.2.0->dopamine-rl==3.1.2) (1.35.0)\n",
            "Requirement already satisfied: google-auth-oauthlib<0.5,>=0.4.1 in /usr/local/lib/python3.7/dist-packages (from tensorboard~=2.6->tensorflow>=2.2.0->dopamine-rl==3.1.2) (0.4.6)\n",
            "Requirement already satisfied: werkzeug>=0.11.15 in /usr/local/lib/python3.7/dist-packages (from tensorboard~=2.6->tensorflow>=2.2.0->dopamine-rl==3.1.2) (1.0.1)\n",
            "Requirement already satisfied: pyasn1-modules>=0.2.1 in /usr/local/lib/python3.7/dist-packages (from google-auth<3,>=1.6.3->tensorboard~=2.6->tensorflow>=2.2.0->dopamine-rl==3.1.2) (0.2.8)\n",
            "Requirement already satisfied: rsa<5,>=3.1.4 in /usr/local/lib/python3.7/dist-packages (from google-auth<3,>=1.6.3->tensorboard~=2.6->tensorflow>=2.2.0->dopamine-rl==3.1.2) (4.8)\n",
            "Requirement already satisfied: cachetools<5.0,>=2.0.0 in /usr/local/lib/python3.7/dist-packages (from google-auth<3,>=1.6.3->tensorboard~=2.6->tensorflow>=2.2.0->dopamine-rl==3.1.2) (4.2.4)\n",
            "Requirement already satisfied: requests-oauthlib>=0.7.0 in /usr/local/lib/python3.7/dist-packages (from google-auth-oauthlib<0.5,>=0.4.1->tensorboard~=2.6->tensorflow>=2.2.0->dopamine-rl==3.1.2) (1.3.0)\n",
            "Requirement already satisfied: importlib-metadata>=4.4 in /usr/local/lib/python3.7/dist-packages (from markdown>=2.6.8->tensorboard~=2.6->tensorflow>=2.2.0->dopamine-rl==3.1.2) (4.10.0)\n",
            "Requirement already satisfied: zipp>=0.5 in /usr/local/lib/python3.7/dist-packages (from importlib-metadata>=4.4->markdown>=2.6.8->tensorboard~=2.6->tensorflow>=2.2.0->dopamine-rl==3.1.2) (3.7.0)\n",
            "Requirement already satisfied: pyasn1<0.5.0,>=0.4.6 in /usr/local/lib/python3.7/dist-packages (from pyasn1-modules>=0.2.1->google-auth<3,>=1.6.3->tensorboard~=2.6->tensorflow>=2.2.0->dopamine-rl==3.1.2) (0.4.8)\n",
            "Requirement already satisfied: chardet<4,>=3.0.2 in /usr/local/lib/python3.7/dist-packages (from requests<3,>=2.21.0->tensorboard~=2.6->tensorflow>=2.2.0->dopamine-rl==3.1.2) (3.0.4)\n",
            "Requirement already satisfied: urllib3!=1.25.0,!=1.25.1,<1.26,>=1.21.1 in /usr/local/lib/python3.7/dist-packages (from requests<3,>=2.21.0->tensorboard~=2.6->tensorflow>=2.2.0->dopamine-rl==3.1.2) (1.24.3)\n",
            "Requirement already satisfied: certifi>=2017.4.17 in /usr/local/lib/python3.7/dist-packages (from requests<3,>=2.21.0->tensorboard~=2.6->tensorflow>=2.2.0->dopamine-rl==3.1.2) (2021.10.8)\n",
            "Requirement already satisfied: idna<3,>=2.5 in /usr/local/lib/python3.7/dist-packages (from requests<3,>=2.21.0->tensorboard~=2.6->tensorflow>=2.2.0->dopamine-rl==3.1.2) (2.10)\n",
            "Requirement already satisfied: oauthlib>=3.0.0 in /usr/local/lib/python3.7/dist-packages (from requests-oauthlib>=0.7.0->google-auth-oauthlib<0.5,>=0.4.1->tensorboard~=2.6->tensorflow>=2.2.0->dopamine-rl==3.1.2) (3.1.1)\n",
            "Requirement already satisfied: cycler>=0.10 in /usr/local/lib/python3.7/dist-packages (from matplotlib->flax>=0.2.0->dopamine-rl==3.1.2) (0.11.0)\n",
            "Requirement already satisfied: kiwisolver>=1.0.1 in /usr/local/lib/python3.7/dist-packages (from matplotlib->flax>=0.2.0->dopamine-rl==3.1.2) (1.3.2)\n",
            "Requirement already satisfied: pyparsing!=2.0.4,!=2.1.2,!=2.1.6,>=2.0.1 in /usr/local/lib/python3.7/dist-packages (from matplotlib->flax>=0.2.0->dopamine-rl==3.1.2) (3.0.6)\n",
            "Collecting chex>=0.0.4\n",
            "  Downloading chex-0.1.0-py3-none-any.whl (65 kB)\n",
            "\u001b[K     |████████████████████████████████| 65 kB 3.1 MB/s \n",
            "\u001b[?25hRequirement already satisfied: toolz>=0.9.0 in /usr/local/lib/python3.7/dist-packages (from chex>=0.0.4->optax->flax>=0.2.0->dopamine-rl==3.1.2) (0.11.2)\n",
            "Requirement already satisfied: dm-tree>=0.1.5 in /usr/local/lib/python3.7/dist-packages (from chex>=0.0.4->optax->flax>=0.2.0->dopamine-rl==3.1.2) (0.1.6)\n",
            "Installing collected packages: chex, optax, tf-slim, pygame, flax, dopamine-rl\n",
            "  Attempting uninstall: dopamine-rl\n",
            "    Found existing installation: dopamine-rl 1.0.5\n",
            "    Uninstalling dopamine-rl-1.0.5:\n",
            "      Successfully uninstalled dopamine-rl-1.0.5\n",
            "Successfully installed chex-0.1.0 dopamine-rl-3.1.2 flax-0.3.6 optax-0.1.0 pygame-2.1.2 tf-slim-1.1.0\n",
            "Requirement already satisfied: atari-py in /usr/local/lib/python3.7/dist-packages (0.2.9)\n",
            "Requirement already satisfied: six in /usr/local/lib/python3.7/dist-packages (from atari-py) (1.15.0)\n",
            "Requirement already satisfied: numpy in /usr/local/lib/python3.7/dist-packages (from atari-py) (1.19.5)\n",
            "Cloning into 'deepmind-research'...\n",
            "remote: Enumerating objects: 2271, done.\u001b[K\n",
            "remote: Counting objects: 100% (848/848), done.\u001b[K\n",
            "remote: Compressing objects: 100% (452/452), done.\u001b[K\n",
            "remote: Total 2271 (delta 440), reused 624 (delta 389), pack-reused 1423\u001b[K\n",
            "Receiving objects: 100% (2271/2271), 93.69 MiB | 29.49 MiB/s, done.\n",
            "Resolving deltas: 100% (1101/1101), done.\n",
            "/content/deepmind-research\n"
          ]
        }
      ],
      "source": [
        "!pip install numpy>=1.20.0\n",
        "!pip install dm-acme\n",
        "!pip install dm-acme[reverb]\n",
        "!pip install dm-reverb\n",
        "!pip install dm-acme[tf]\n",
        "!pip install dm-sonnet\n",
        "!pip install dopamine-rl==3.1.2\n",
        "!pip install atari-py\n",
        "\n",
        "!git clone https://github.com/deepmind/deepmind-research.git\n",
        "%cd deepmind-research"
      ]
    },
    {
      "cell_type": "markdown",
      "metadata": {
        "id": "c-H2d6UZi7Sf"
      },
      "source": [
        "## Imports"
      ]
    },
    {
      "cell_type": "code",
      "execution_count": 11,
      "metadata": {
        "cellView": "both",
        "id": "HJ74Id-8MERq"
      },
      "outputs": [],
      "source": [
        "import copy\n",
        "\n",
        "import acme\n",
        "from acme.agents.tf import actors\n",
        "from acme.agents.tf.dqn import learning as dqn\n",
        "from acme.tf import utils as acme_utils\n",
        "from acme.utils import loggers\n",
        "\n",
        "# import gin\n",
        "# gin.enter_interactive_mode()\n",
        "!pip install gin-config==0.3.0\n",
        "from rl_unplugged import atari\n",
        "import sonnet as snt\n",
        "import tensorflow as tf"
      ]
    },
    {
      "cell_type": "markdown",
      "metadata": {
        "id": "JrOSnoWiY4Xl"
      },
      "source": [
        "## Data"
      ]
    },
    {
      "cell_type": "code",
      "execution_count": 12,
      "metadata": {
        "colab": {
          "base_uri": "https://localhost:8080/"
        },
        "id": "Vi3_H_h1zy_0",
        "outputId": "07a1c7d7-24d3-4830-b513-32d7d4d3e79a"
      },
      "outputs": [
        {
          "output_type": "stream",
          "name": "stdout",
          "text": [
            "Copying gs://rl_unplugged/atari/Pong/run_1-00000-of-00100...\n",
            "- [1 files][720.0 MiB/720.0 MiB]   56.7 MiB/s                                   \n",
            "Operation completed over 1 objects/720.0 MiB.                                    \n"
          ]
        }
      ],
      "source": [
        "game = 'Pong' #@param\n",
        "run = 1  #@param\n",
        "\n",
        "tmp_path = '/tmp/atari'\n",
        "gs_path = 'gs://rl_unplugged/atari'\n",
        "\n",
        "!mkdir -p {tmp_path}/{game}\n",
        "\n",
        "src = f'{gs_path}/{game}/run_{run}-00000-of-00100'\n",
        "dest = f'{tmp_path}/{game}/run_{run}-00000-of-00001'\n",
        "!gsutil cp {src} {dest}"
      ]
    },
    {
      "cell_type": "markdown",
      "metadata": {
        "id": "a9vF7LtYvLzy"
      },
      "source": [
        "## Dataset and environment"
      ]
    },
    {
      "cell_type": "code",
      "execution_count": 56,
      "metadata": {
        "colab": {
          "base_uri": "https://localhost:8080/"
        },
        "id": "01AHHNd9cEX2",
        "outputId": "6b36d5ef-6ed8-4351-b790-607524d8330e"
      },
      "outputs": [
        {
          "output_type": "stream",
          "name": "stdout",
          "text": [
            "['__add__', '__annotations__', '__class__', '__contains__', '__delattr__', '__dir__', '__doc__', '__eq__', '__format__', '__ge__', '__getattribute__', '__getitem__', '__getnewargs__', '__gt__', '__hash__', '__init__', '__init_subclass__', '__iter__', '__le__', '__len__', '__lt__', '__module__', '__mul__', '__ne__', '__new__', '__reduce__', '__reduce_ex__', '__repr__', '__rmul__', '__setattr__', '__sizeof__', '__slots__', '__str__', '__subclasshook__', '_asdict', '_field_defaults', '_field_types', '_fields', '_fields_defaults', '_make', '_replace', 'count', 'data', 'index', 'info']\n",
            "['__add__', '__annotations__', '__class__', '__contains__', '__delattr__', '__dir__', '__doc__', '__eq__', '__format__', '__ge__', '__getattribute__', '__getitem__', '__getnewargs__', '__gt__', '__hash__', '__init__', '__init_subclass__', '__iter__', '__le__', '__len__', '__lt__', '__module__', '__mul__', '__ne__', '__new__', '__reduce__', '__reduce_ex__', '__repr__', '__rmul__', '__setattr__', '__sizeof__', '__slots__', '__str__', '__subclasshook__', '_asdict', '_field_defaults', '_field_types', '_fields', '_fields_defaults', '_make', '_replace', 'action', 'count', 'discount', 'extras', 'index', 'next_action', 'next_observation', 'observation', 'reward']\n"
          ]
        }
      ],
      "source": [
        "batch_size = 10  \n",
        "\n",
        "# def discard_extras(sample):\n",
        "#   return sample._replace(data=sample.data[:5])\n",
        "from acme import types\n",
        "import reverb\n",
        "# from collections import namedtuple\n",
        "from typing import NamedTuple, List, Any\n",
        "\n",
        "\n",
        "dataset = atari.dataset(path=tmp_path, game='Pong', run=1, num_shards=1)\n",
        "# # Small batch size, experiments in the paper were run with batch size 256.\n",
        "# dataset = dataset.map(discard_extras).batch(batch_size)\n",
        "class testClass(NamedTuple):\n",
        "  some_field: int\n",
        "  other_field: List[int]\n",
        "\n",
        "NestedArray = Any\n",
        "NestedTensor = Any\n",
        "\n",
        "class copyTransition(NamedTuple):\n",
        "  observation: NestedArray\n",
        "  action: NestedArray\n",
        "  reward: NestedArray\n",
        "  discount: NestedArray\n",
        "  next_observation: NestedArray\n",
        "  next_action: NestedArray\n",
        "  extras: NestedArray = ()\n",
        "\n",
        "def convert_to_transition(sample):\n",
        "  # transition_sample = types.Transition\n",
        "  sample = sample._replace(data=copyTransition(observation = sample.data[0],\n",
        "                                     action = sample.data[1],\n",
        "                                     reward = sample.data[2],\n",
        "                                     discount = sample.data[3],\n",
        "                                     next_observation = sample.data[4],\n",
        "                                     next_action = sample.data[5],\n",
        "                                     extras = sample.data[6]))\n",
        "  # transition_sample = namedtuple('Transition', ['observation', 'action', 'reward', 'discount', 'next_observation', 'next_action', 'extra'])\n",
        "  # transition_sample.observation = sample.data[0]\n",
        "  # transition_sample.action = sample.data[1]\n",
        "  # transition_sample.reward = sample.data[2]\n",
        "  # transition_sample.discount = sample.data[3]\n",
        "  # transition_sample.next_observation = sample.data[4]\n",
        "  # transition_sample.next_action = sample.data[5]\n",
        "  # transition_sample.extra = sample.data[6]\n",
        "  # transition_sample = tf.nest.map_structure(tf.convert_to_tensor, transition_sample)\n",
        "  # transition_sample = reverb.ReplaySample(info=None, data=sample.data)\n",
        "  # transition_sample = testClass(some_field = 7, other_field = [1, 4, 2])\n",
        "  # return transition_sample\n",
        "  return sample\n",
        "\n",
        "dataset = dataset.map(convert_to_transition).batch(batch_size)\n",
        "\n",
        "# print(len(next(iter(dataset)).data))\n",
        "print(dir(next(iter(dataset))))\n",
        "print(dir(next(iter(dataset)).data))\n"
      ]
    },
    {
      "cell_type": "markdown",
      "metadata": {
        "id": "KoYBhjPtI_N6"
      },
      "source": [
        ""
      ]
    },
    {
      "cell_type": "code",
      "execution_count": 16,
      "metadata": {
        "colab": {
          "base_uri": "https://localhost:8080/"
        },
        "id": "4b4_rHwCmQg-",
        "outputId": "9606c601-b9ca-4ccc-c4c3-197514c3a49e"
      },
      "outputs": [
        {
          "output_type": "stream",
          "name": "stdout",
          "text": [
            "copying breakout.bin from /content/drive/MyDrive/Colab Notebooks/atari_roms/Breakout - Breakaway IV (Paddle) (1978) (Atari, Brad Stewart - Sears) (CX2622 - 6-99813, 49-75107) ~.bin to /usr/local/lib/python3.7/dist-packages/atari_py/atari_roms/breakout.bin\n",
            "copying pong.bin from /content/drive/MyDrive/Colab Notebooks/atari_roms/Video Olympics - Pong Sports (Paddle) (1977) (Atari, Joe Decuir - Sears) (CX2621 - 99806, 6-99806, 49-75104) ~.bin to /usr/local/lib/python3.7/dist-packages/atari_py/atari_roms/pong.bin\n"
          ]
        }
      ],
      "source": [
        "!python -m atari_py.import_roms '/content/drive/MyDrive/Colab Notebooks/atari_roms'\n",
        "environment = atari.environment(game='Pong')"
      ]
    },
    {
      "cell_type": "markdown",
      "metadata": {
        "id": "BukOfOsmtSQn"
      },
      "source": [
        "## DQN learner"
      ]
    },
    {
      "cell_type": "code",
      "execution_count": 17,
      "metadata": {
        "colab": {
          "base_uri": "https://localhost:8080/"
        },
        "id": "3Jcjk1w6oHVX",
        "outputId": "712c97e8-d0a1-44bb-fde8-ca8304099c6e"
      },
      "outputs": [
        {
          "output_type": "execute_result",
          "data": {
            "text/plain": [
              "TensorSpec(shape=(6,), dtype=tf.float32, name=None)"
            ]
          },
          "metadata": {},
          "execution_count": 17
        }
      ],
      "source": [
        "# Get total number of actions.\n",
        "num_actions = environment.action_spec().num_values\n",
        "\n",
        "# Create the Q network.\n",
        "network = snt.Sequential([\n",
        "    lambda x: tf.image.convert_image_dtype(x, tf.float32),\n",
        "    snt.Conv2D(32, [8, 8], [4, 4]),\n",
        "    tf.nn.relu,\n",
        "    snt.Conv2D(64, [4, 4], [2, 2]),\n",
        "    tf.nn.relu,\n",
        "    snt.Conv2D(64, [3, 3], [1, 1]),\n",
        "    tf.nn.relu,\n",
        "    snt.Flatten(),\n",
        "    snt.nets.MLP([512, num_actions])\n",
        "])\n",
        "acme_utils.create_variables(network, [environment.observation_spec()])"
      ]
    },
    {
      "cell_type": "code",
      "execution_count": 57,
      "metadata": {
        "id": "9CD2sNK-oA9S"
      },
      "outputs": [],
      "source": [
        "# Create a logger.\n",
        "logger = loggers.TerminalLogger(label='learner', time_delta=1.)\n",
        "\n",
        "# Create the DQN learner.\n",
        "learner = dqn.DQNLearner(\n",
        "    network=network,\n",
        "    target_network=copy.deepcopy(network),\n",
        "    discount=0.99,\n",
        "    learning_rate=3e-4,\n",
        "    importance_sampling_exponent=0.2,\n",
        "    target_update_period=2500,\n",
        "    dataset=dataset,\n",
        "    logger=logger)"
      ]
    },
    {
      "cell_type": "markdown",
      "metadata": {
        "id": "oKeGQxzitXYC"
      },
      "source": [
        "## Training loop"
      ]
    },
    {
      "cell_type": "code",
      "execution_count": 58,
      "metadata": {
        "colab": {
          "base_uri": "https://localhost:8080/"
        },
        "id": "VWZd5N-Qoz82",
        "outputId": "daaa129e-afdb-4558-bc55-8d4914b83dcf"
      },
      "outputs": [
        {
          "output_type": "stream",
          "name": "stdout",
          "text": [
            "INFO:tensorflow:Assets written to: /root/acme/bd9054ec-7850-11ec-96c8-0242ac1c0002/snapshots/network/assets\n"
          ]
        }
      ],
      "source": [
        "for _ in range(100):\n",
        "  learner.step()"
      ]
    },
    {
      "cell_type": "markdown",
      "metadata": {
        "id": "qFQDrp0CgIzU"
      },
      "source": [
        "## Evaluation"
      ]
    },
    {
      "cell_type": "code",
      "execution_count": 59,
      "metadata": {
        "id": "DWYHBalygIDF"
      },
      "outputs": [],
      "source": [
        "# Create a logger.\n",
        "logger = loggers.TerminalLogger(label='evaluation', time_delta=1.)\n",
        "\n",
        "# Create an environment loop.\n",
        "policy_network = snt.Sequential([\n",
        "    network,\n",
        "    lambda q: tf.argmax(q, axis=-1),\n",
        "])\n",
        "loop = acme.EnvironmentLoop(\n",
        "    environment=environment,\n",
        "    actor=actors.FeedForwardActor(policy_network=policy_network),\n",
        "    logger=logger)\n",
        "\n",
        "loop.run(5)"
      ]
    },
    {
      "cell_type": "code",
      "source": [
        ""
      ],
      "metadata": {
        "id": "rwJx6YnGSj6Y"
      },
      "execution_count": null,
      "outputs": []
    }
  ],
  "metadata": {
    "colab": {
      "collapsed_sections": [],
      "name": "RL Unplugged: Offline DQN - Atari",
      "provenance": [],
      "include_colab_link": true
    },
    "kernelspec": {
      "display_name": "Python 3",
      "name": "python3"
    },
    "accelerator": "TPU"
  },
  "nbformat": 4,
  "nbformat_minor": 0
}